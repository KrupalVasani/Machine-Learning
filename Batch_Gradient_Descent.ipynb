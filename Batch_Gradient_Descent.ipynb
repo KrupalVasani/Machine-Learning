{
  "nbformat": 4,
  "nbformat_minor": 0,
  "metadata": {
    "colab": {
      "name": "Batch-Gradient-Descent",
      "provenance": [],
      "authorship_tag": "ABX9TyNMWibZxEf0USgluwolGmGF"
    },
    "kernelspec": {
      "name": "python3",
      "display_name": "Python 3"
    },
    "language_info": {
      "name": "python"
    }
  },
  "cells": [
    {
      "cell_type": "code",
      "execution_count": 89,
      "metadata": {
        "id": "kt2SY-VQdNAu"
      },
      "outputs": [],
      "source": [
        "from sklearn.datasets import load_diabetes\n",
        "import numpy as np"
      ]
    },
    {
      "cell_type": "code",
      "source": [
        "diabetes=load_diabetes()\n",
        "\n",
        "X=diabetes['data']\n",
        "y=diabetes['target']\n",
        "n=y.shape[0]\n",
        "\n",
        "print(diabetes['feature_names'])"
      ],
      "metadata": {
        "colab": {
          "base_uri": "https://localhost:8080/"
        },
        "id": "itZJ6arZdhpB",
        "outputId": "f57b5d54-b846-4ded-8e44-131af8df4a6b"
      },
      "execution_count": 90,
      "outputs": [
        {
          "output_type": "stream",
          "name": "stdout",
          "text": [
            "['age', 'sex', 'bmi', 'bp', 's1', 's2', 's3', 's4', 's5', 's6']\n"
          ]
        }
      ]
    },
    {
      "cell_type": "code",
      "source": [
        "from sklearn.model_selection import train_test_split\n",
        "\n",
        "train_x,test_x,train_y,test_y=train_test_split(X,y,test_size=0.3,random_state=30)"
      ],
      "metadata": {
        "id": "NATb68Y8em1Z"
      },
      "execution_count": 91,
      "outputs": []
    },
    {
      "cell_type": "code",
      "source": [
        "class MyMultipleLinearRegression:\n",
        "\n",
        "  def __init__(self,learning_rate,epochs):\n",
        "    self.lr=learning_rate\n",
        "    self.epochs=epochs\n",
        "    self.coef_=0\n",
        "    self.intercept_=0\n",
        "\n",
        "  def fit(self,X,y):\n",
        "    n=X.shape[1]\n",
        "    self.coef_=np.zeros(n)\n",
        "\n",
        "    for i in range(self.epochs):\n",
        "      y_pred=np.dot(X,self.coef_)+self.intercept_\n",
        "      slope=(-2/n)*np.sum(y-y_pred)\n",
        "      self.intercept_ -= self.lr*slope\n",
        "\n",
        "      y_pred=np.dot(X,self.coef_)+self.intercept_\n",
        "      slope=(-2/n)*np.dot((y-y_pred),X)\n",
        "      self.coef_ -= self.lr*slope\n",
        "    \n",
        "  def predict(self,X):\n",
        "    return np.dot(X,self.coef_) + self.intercept_ "
      ],
      "metadata": {
        "id": "2Z39O3s0iQCV"
      },
      "execution_count": 92,
      "outputs": []
    },
    {
      "cell_type": "code",
      "source": [
        "from sklearn.metrics import r2_score\n",
        "myMLR = MyMultipleLinearRegression(0.01,1000)\n",
        "\n",
        "myMLR.fit(train_x,train_y)\n",
        "print(\"Intercept: \",myMLR.intercept_)\n",
        "print(myMLR.coef_,\"\\n\\n\")\n",
        "\n",
        "print(r2_score(test_y,myMLR.predict(test_x)))"
      ],
      "metadata": {
        "colab": {
          "base_uri": "https://localhost:8080/"
        },
        "id": "YpV3K3eDoEGt",
        "outputId": "6b77194a-c30c-495c-8be4-0deeb785e837"
      },
      "execution_count": 93,
      "outputs": [
        {
          "output_type": "stream",
          "name": "stdout",
          "text": [
            "Intercept:  151.29849488329003\n",
            "[  -4.34720127 -152.23612034  438.91708718  293.17053154  -33.99762813\n",
            "  -96.40907277 -173.91388552   90.66373403  369.72989161  145.93377066] \n",
            "\n",
            "\n",
            "0.49844510504651984\n"
          ]
        }
      ]
    },
    {
      "cell_type": "code",
      "source": [
        "import matplotlib.pyplot as plt\n",
        "\n",
        "indexes=range(test_y.shape[0])\n",
        "plt.scatter(indexes,test_y,color='pink')\n",
        "plt.scatter(indexes,myMLR.predict(test_x),color='red')"
      ],
      "metadata": {
        "colab": {
          "base_uri": "https://localhost:8080/",
          "height": 286
        },
        "id": "RpA_Mccx1slT",
        "outputId": "b94dd971-3eb9-46ac-8da1-1e87e8ff1600"
      },
      "execution_count": 94,
      "outputs": [
        {
          "output_type": "execute_result",
          "data": {
            "text/plain": [
              "<matplotlib.collections.PathCollection at 0x7fadc61f8ed0>"
            ]
          },
          "metadata": {},
          "execution_count": 94
        },
        {
          "output_type": "display_data",
          "data": {
            "image/png": "[encoded data removed]",
            "text/plain": [
              "<Figure size 432x288 with 1 Axes>"
            ]
          },
          "metadata": {
            "needs_background": "light"
          }
        }
      ]
    }
  ]
}