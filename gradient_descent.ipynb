{
  "nbformat": 4,
  "nbformat_minor": 0,
  "metadata": {
    "colab": {
      "name": "gradient-descent.ipynb",
      "provenance": [],
      "authorship_tag": "ABX9TyMJPpMOdjbzdFJUxkRavEbu"
    },
    "kernelspec": {
      "name": "python3",
      "display_name": "Python 3"
    },
    "language_info": {
      "name": "python"
    }
  },
  "cells": [
    {
      "cell_type": "markdown",
      "source": [
        "**Gradient Descent**\n"
      ],
      "metadata": {
        "id": "c76s7BDUtgNi"
      }
    },
    {
      "cell_type": "code",
      "source": [
        "import numpy as np"
      ],
      "metadata": {
        "id": "LIU7qsgHyPFE"
      },
      "execution_count": 53,
      "outputs": []
    },
    {
      "cell_type": "code",
      "execution_count": 54,
      "metadata": {
        "id": "5crRBq5mtVK5"
      },
      "outputs": [],
      "source": [
        "class MyGDRegressor:\n",
        "\n",
        "  def __init__(self,learning_rate,epochs):\n",
        "    self.coefficient=0\n",
        "    self.intercept=0\n",
        "    self.lr=learning_rate\n",
        "    self.epochs=epochs\n",
        "\n",
        "  def fit(self,X,y):\n",
        "    for i in range(self.epochs):\n",
        "      intercept_slope=-2*np.sum(y-self.coefficient*X.ravel()-self.intercept)\n",
        "      coefficient_slope=-2*np.sum((y-self.coefficient*X.ravel()-self.intercept)*X.ravel())\n",
        "      self.intercept -= self.lr*intercept_slope\n",
        "      self.coefficient -= self.lr*coefficient_slope\n",
        "    print(\"Coefficient: \",self.coefficient,\"\\n\",\"Intercept: \",self.intercept)\n",
        "\n",
        "  def predict(self,X):\n",
        "    return self.coefficient*X+self.intercept"
      ]
    },
    {
      "cell_type": "code",
      "source": [
        "from sklearn.datasets import make_regression\n",
        "\n",
        "X,y=make_regression(n_samples=100,n_features=1,n_informative=1,n_targets=1,noise=13,random_state=30)"
      ],
      "metadata": {
        "id": "8hIDEHwIzkmP"
      },
      "execution_count": 55,
      "outputs": []
    },
    {
      "cell_type": "code",
      "source": [
        "from sklearn.model_selection import train_test_split\n",
        "\n",
        "train_x,test_x,train_y,test_y=train_test_split(X,y,test_size=0.2,random_state=30)"
      ],
      "metadata": {
        "id": "OZQSz7xk0Zwc"
      },
      "execution_count": 56,
      "outputs": []
    },
    {
      "cell_type": "code",
      "source": [
        "import matplotlib.pyplot as plt\n",
        "from sklearn.linear_model import LinearRegression \n",
        "\n",
        "gd=MyGDRegressor(learning_rate=0.01,epochs=1000)\n",
        "lr=LinearRegression()\n",
        "lr.fit(train_x,train_y)\n",
        "\n",
        "print('Coefficient (SkLearn): ',lr.coef_[0])\n",
        "print('Intercept (Sklearn): ',lr.intercept_,\"\\n\")\n",
        "\n",
        "\n",
        "gd.fit(train_x,train_y)\n",
        "#plt.plot(test_x,lr.predict(test_x),color='green')\n",
        "plt.plot(test_x,gd.predict(test_x),color='red')\n",
        "plt.scatter(X,y)"
      ],
      "metadata": {
        "colab": {
          "base_uri": "https://localhost:8080/",
          "height": 369
        },
        "id": "5DVo-VvVuE-H",
        "outputId": "e0a158ef-d0ed-4017-f84c-fde2e74c8b99"
      },
      "execution_count": 57,
      "outputs": [
        {
          "output_type": "stream",
          "name": "stdout",
          "text": [
            "Coefficient (SkLearn):  21.69070391535751\n",
            "Intercept (Sklearn):  1.263694136553573 \n",
            "\n",
            "Coefficient:  21.647507864865855 \n",
            " Intercept:  1.2884909543132237\n"
          ]
        },
        {
          "output_type": "execute_result",
          "data": {
            "text/plain": [
              "<matplotlib.collections.PathCollection at 0x7f91a4350950>"
            ]
          },
          "metadata": {},
          "execution_count": 57
        },
        {
          "output_type": "display_data",
          "data": {
            "image/png": "[encoded data removed]",
            "text/plain": [
              "<Figure size 432x288 with 1 Axes>"
            ]
          },
          "metadata": {
            "needs_background": "light"
          }
        }
      ]
    },
    {
      "cell_type": "code",
      "source": [
        ""
      ],
      "metadata": {
        "id": "frpY5rnVqSUt"
      },
      "execution_count": 57,
      "outputs": []
    }
  ]
}