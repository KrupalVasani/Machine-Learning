{
  "nbformat": 4,
  "nbformat_minor": 0,
  "metadata": {
    "colab": {
      "name": "Accuracy ,Confusion Matrix, Precision, Recall and F1 Score",
      "provenance": [],
      "authorship_tag": "ABX9TyNo5Z4P9g9tuMFgUo62FjUO",
      "include_colab_link": true
    },
    "kernelspec": {
      "name": "python3",
      "display_name": "Python 3"
    },
    "language_info": {
      "name": "python"
    }
  },
  "cells": [
    {
      "cell_type": "markdown",
      "metadata": {
        "id": "view-in-github",
        "colab_type": "text"
      },
      "source": [
        "<a href=\"https://colab.research.google.com/github/KrupalVasani/Machine-Learning/blob/main/Accuracy_%2CConfusion_Matrix%2C_Precision%2C_Recall_and_F1_Score.ipynb\" target=\"_parent\"><img src=\"https://colab.research.google.com/assets/colab-badge.svg\" alt=\"Open In Colab\"/></a>"
      ]
    },
    {
      "cell_type": "code",
      "source": [
        "import pandas as pd\n",
        "import numpy as np\n",
        "from sklearn.model_selection import train_test_split\n",
        "from sklearn.neighbors import KNeighborsClassifier\n",
        "from sklearn.datasets import load_iris"
      ],
      "metadata": {
        "id": "nZdPRWeRSJ90"
      },
      "execution_count": 22,
      "outputs": []
    },
    {
      "cell_type": "code",
      "source": [
        "knn=KNeighborsClassifier()\n",
        "iris=load_iris()\n",
        "x=iris['data']\n",
        "y=iris['target']"
      ],
      "metadata": {
        "id": "hUfrSL-bSbLU"
      },
      "execution_count": 23,
      "outputs": []
    },
    {
      "cell_type": "code",
      "source": [
        "# Accuracy score function\n",
        "def my_accuracy_score(predicted_y,test_y):\n",
        "  diff=0\n",
        "  n=predicted_y.size\n",
        "  for i in range(0,n,1):\n",
        "    if(predicted_y[i]==test_y[i]):\n",
        "      diff+=1\n",
        "  return (diff/n)\n",
        "\n",
        "def getIndex(mylist,value):\n",
        "  n=len(mylist)\n",
        "  for i in range(0,n-1):\n",
        "    if(mylist[i]==value):\n",
        "      return i\n",
        "  return -1\n",
        "\n",
        "# Confusion matrix function\n",
        "def my_confusion_matrix(predicted_y,actual_y):\n",
        "  classes_count=0\n",
        "  n=len(test_y)\n",
        "  classes=[]\n",
        "  #find classes from actual target array\n",
        "  for i in range(n):\n",
        "    if test_y[i] in classes:\n",
        "      idk=1\n",
        "    else:\n",
        "      classes.append(test_y[i])\n",
        "      classes_count+=1    \n",
        "  matrix=np.zeros((classes_count,classes_count))\n",
        "  for j in range(0,n-1):\n",
        "    matrix[getIndex(classes,predicted_y[j])][getIndex(classes,actual_y[j])]+=1\n",
        "  \n",
        "  total_predicted=[]\n",
        "  total_actual=[]\n",
        "\n",
        "  for i in range(classes_count):\n",
        "    temp=0\n",
        "    temp1=0\n",
        "    for j in range(classes_count):\n",
        "      temp +=matrix[i][j]\n",
        "      temp1 +=matrix[j][i]\n",
        "    total_actual.append(temp)\n",
        "    total_predicted.append(temp1)\n",
        "\n",
        "  columns_name=['Precision','Recall',\"F1-Score\"]\n",
        "  my_classification_score=pd.DataFrame(columns=columns_name,data=np.zeros((classes_count,3)),index=classes)\n",
        "  for i in range(classes_count):\n",
        "    precision=matrix[i][i]/total_predicted[i]\n",
        "    recall=matrix[i][i]/total_actual[i]\n",
        "    #Harmonic mean of both\n",
        "    f1_score=(2*precision*recall)/(precision+recall)\n",
        "    my_classification_score.iloc[i,0]=precision\n",
        "    my_classification_score.iloc[i,1]=recall\n",
        "    my_classification_score.iloc[i,2]=f1_score\n",
        "  print(my_classification_score,\"\\n\\n\")\n",
        "\n",
        "  return matrix  \n",
        "\n",
        "train_x, test_x, train_y, test_y = train_test_split(x,y,test_size=0.3,random_state=30)\n",
        "knn.fit(train_x,train_y)\n",
        "predicted_y=knn.predict(test_x)\n",
        "\n",
        "accuracy=my_accuracy_score(predicted_y,test_y)\n",
        "print('Accuracy: ',accuracy,'\\n')\n",
        "\n",
        "matrix=my_confusion_matrix(predicted_y,test_y)\n",
        "\n",
        "print('Confusion Matrix :\\n')\n",
        "print(matrix)"
      ],
      "metadata": {
        "colab": {
          "base_uri": "https://localhost:8080/"
        },
        "id": "5UOwgK7GRulY",
        "outputId": "4f44f127-d3a7-44e5-9333-e76fb185852b"
      },
      "execution_count": 24,
      "outputs": [
        {
          "output_type": "stream",
          "name": "stdout",
          "text": [
            "Accuracy:  0.9333333333333333 \n",
            "\n",
            "   Precision    Recall  F1-Score\n",
            "0   1.000000  1.000000  1.000000\n",
            "2   0.944444  0.894737  0.918919\n",
            "1   0.846154  0.916667  0.880000 \n",
            "\n",
            "\n",
            "Confusion Matrix :\n",
            "\n",
            "[[13.  0.  0.]\n",
            " [ 0. 17.  2.]\n",
            " [ 0.  1. 11.]]\n"
          ]
        }
      ]
    }
  ]
}